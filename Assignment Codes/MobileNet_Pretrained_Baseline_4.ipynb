{
 "cells": [
  {
   "cell_type": "code",
   "execution_count": 1,
   "id": "73f19017",
   "metadata": {},
   "outputs": [],
   "source": [
    "import math\n",
    "import random\n",
    "import os\n",
    "import time\n",
    "import json\n",
    "from functools import partial\n",
    "from collections import defaultdict\n",
    "\n",
    "import numpy as np\n",
    "import pandas as pd\n",
    "\n",
    "%matplotlib notebook\n",
    "import matplotlib\n",
    "import matplotlib.pyplot as plt\n",
    "\n",
    "import tensorflow as tf"
   ]
  },
  {
   "cell_type": "markdown",
   "id": "3d782ddf",
   "metadata": {},
   "source": [
    "### Check Version"
   ]
  },
  {
   "cell_type": "code",
   "execution_count": 2,
   "id": "03faa827",
   "metadata": {},
   "outputs": [
    {
     "data": {
      "text/plain": [
       "'2.9.0'"
      ]
     },
     "execution_count": 2,
     "metadata": {},
     "output_type": "execute_result"
    }
   ],
   "source": [
    "tf.__version__"
   ]
  },
  {
   "cell_type": "markdown",
   "id": "f2ac4996",
   "metadata": {},
   "source": [
    "### GPU Configuration"
   ]
  },
  {
   "cell_type": "code",
   "execution_count": 3,
   "id": "2f1e955b",
   "metadata": {},
   "outputs": [],
   "source": [
    "gpus = tf.config.list_physical_devices('GPU')"
   ]
  },
  {
   "cell_type": "code",
   "execution_count": 4,
   "id": "2835bd75",
   "metadata": {},
   "outputs": [
    {
     "data": {
      "text/plain": [
       "[PhysicalDevice(name='/physical_device:GPU:0', device_type='GPU')]"
      ]
     },
     "execution_count": 4,
     "metadata": {},
     "output_type": "execute_result"
    }
   ],
   "source": [
    "gpus"
   ]
  },
  {
   "cell_type": "code",
   "execution_count": 5,
   "id": "4f935a49",
   "metadata": {},
   "outputs": [],
   "source": [
    "tf.config.experimental.set_memory_growth(gpus[0], True)"
   ]
  },
  {
   "cell_type": "markdown",
   "id": "8be867b6",
   "metadata": {},
   "source": [
    "### Pandas Config"
   ]
  },
  {
   "cell_type": "code",
   "execution_count": 6,
   "id": "c92db292",
   "metadata": {},
   "outputs": [],
   "source": [
    "pd.set_option('display.max_column', None)"
   ]
  },
  {
   "cell_type": "markdown",
   "id": "0fc0907c",
   "metadata": {},
   "source": [
    "### Input Pipeline"
   ]
  },
  {
   "cell_type": "code",
   "execution_count": 7,
   "id": "bb0fd934",
   "metadata": {},
   "outputs": [],
   "source": [
    "IMG_WIDTH = 256\n",
    "IMG_HEIGHT = 256\n",
    "\n",
    "TRAIN_BATCH_SIZE = 4\n",
    "VAL_BATCH_SIZE = 4"
   ]
  },
  {
   "cell_type": "code",
   "execution_count": 8,
   "id": "1cf19fa2",
   "metadata": {},
   "outputs": [],
   "source": [
    "CROP_WIDTH = 227\n",
    "CROP_HEIGHT = 227"
   ]
  },
  {
   "cell_type": "code",
   "execution_count": 9,
   "id": "2d40847d",
   "metadata": {},
   "outputs": [],
   "source": [
    "foldFiles = [\"adience/unprocessed/fold_0_data.txt\",\n",
    "             \"adience/unprocessed/fold_1_data.txt\",\n",
    "             \"adience/unprocessed/fold_2_data.txt\",\n",
    "             \"adience/unprocessed/fold_3_data.txt\",\n",
    "             \"adience/unprocessed/fold_4_data.txt\"]"
   ]
  },
  {
   "cell_type": "code",
   "execution_count": 10,
   "id": "f61c7b9d",
   "metadata": {},
   "outputs": [],
   "source": [
    "genderMap = defaultdict(lambda : np.NaN)\n",
    "genderMap['m'] = 0\n",
    "genderMap['f'] = 1"
   ]
  },
  {
   "cell_type": "code",
   "execution_count": 11,
   "id": "40d26242",
   "metadata": {},
   "outputs": [],
   "source": [
    "ages = ['(0, 2)', '(4, 6)', '(8, 13)', '(15, 20)', '(25, 32)', '(38, 43)', '(48, 53)', '(60, 100)']\n",
    "ageMap = defaultdict(lambda : np.NaN)\n",
    "for i,a in enumerate(ages):\n",
    "    ageMap[a] = i"
   ]
  },
  {
   "cell_type": "markdown",
   "id": "6b4b1fc3",
   "metadata": {},
   "source": [
    "### Dataset Generation"
   ]
  },
  {
   "cell_type": "markdown",
   "id": "8cd634a3",
   "metadata": {},
   "source": [
    "Dataset generation pipeline:\n",
    "Input: \n",
    "- foldFile - Path to fold file. Fold file Describes which images are in the fold and its corresponding labels\n",
    "- imgBaseFolder - Base folder to search image from\n",
    "- imgPrefix - Prefix of image file\n",
    "- genderMap - Map from ['m', 'f', 'u', None], to one hot index\n",
    "- ageMap - Map from age category to one hot index\n",
    "- imgWidth - Resulting image width\n",
    "- imgHeigh - Resulting image height\n",
    "- batchSize - Int or None, batch size\n",
    "- configureDs - Function accepting dataset for performance configurations\n",
    "- preBatch - List of (name, functions) pair that will be mapped before batching. name is used as name parameters for tf graph \n",
    "- postBatch - List of (name, functions) that will be mapped after batching. name is used as name parameters for tf graph\n",
    "\n",
    "The processing functions should have signature function(img, label) -> (img, label)\n",
    "\n",
    "Pipeline\n",
    "\n",
    "Read Fold File -> Preprocess filename and labels (dataframe) -> Convert filename and labels to numpy array -> Convert filename and labels to tf dataset -> Parse images and labels -> Configure Dataset for performance -> Pre-Batching preprocessing -> Batch -> Post-Batching preprocessing -> Output\n",
    "\n",
    "Some preprocessing steps can only be done before and some can only be done after batching, thats why there are seperated pre and post batching list"
   ]
  },
  {
   "cell_type": "code",
   "execution_count": 12,
   "id": "0795464c",
   "metadata": {},
   "outputs": [],
   "source": [
    "def generateDs(foldFiles, imgBaseFolder, imgPrefix, genderMap, ageMap, genderDepth, ageDepth, imgWidth, imgHeight, batchSize, configureDs=None, preBatch=[], postBatch=[]):\n",
    "    \n",
    "    def parseImage(filename):\n",
    "        img = tf.io.read_file(filename)\n",
    "        img = tf.image.decode_jpeg(img)\n",
    "        img = tf.image.resize(img, [imgHeight, imgWidth])\n",
    "         \n",
    "        return img\n",
    "    \n",
    "    # Read Fold File\n",
    "    foldData = []\n",
    "    for f in foldFiles:\n",
    "        foldData.append(pd.read_csv(f, sep=\"\\t\"))\n",
    "    foldData = pd.concat(foldData)\n",
    "    \n",
    "    # Form File Name\n",
    "    foldData['filename'] = foldData.apply(lambda r: os.path.join(imgBaseFolder, r['user_id'], f\"{imgPrefix}.{r['face_id']}.{r['original_image']}\"), axis=1)\n",
    "    \n",
    "    # Generate Label One Hot Index\n",
    "    foldData['gender_ind'] = foldData['gender'].map(genderMap)\n",
    "    foldData['age_ind'] = foldData['age'].map(ageMap)\n",
    "    \n",
    "    # Remove dirty data\n",
    "    foldData.dropna(subset=['gender_ind', 'age_ind'], inplace=True)\n",
    "    \n",
    "    # Dataframe to numpy\n",
    "    filenames = foldData['filename'].to_numpy()\n",
    "    \n",
    "    genderIndex = foldData['gender_ind'].to_numpy().astype(int)\n",
    "    ageIndex = foldData['age_ind'].to_numpy().astype(int)\n",
    "    \n",
    "    # Numpy to Dataset\n",
    "    fnDs = tf.data.Dataset.from_tensor_slices(filenames)\n",
    "    genderIndDs = tf.data.Dataset.from_tensor_slices(genderIndex)\n",
    "    ageIndDs = tf.data.Dataset.from_tensor_slices(ageIndex)\n",
    "    \n",
    "    # Parse Images\n",
    "    imageDs = fnDs.map(parseImage, num_parallel_calls=tf.data.AUTOTUNE, name=\"parse_image\")\n",
    "    \n",
    "    # Parse Labels\n",
    "    genderLabDs = genderIndDs.map(lambda x: tf.one_hot(x, genderDepth), num_parallel_calls=tf.data.AUTOTUNE, name=\"gender_one_hot\")\n",
    "    ageLabDs = ageIndDs.map(lambda x: tf.one_hot(x, ageDepth), num_parallel_calls=tf.data.AUTOTUNE, name=\"age_one_hot\")\n",
    "    \n",
    "    # Combine Labels\n",
    "    labelDs = tf.data.Dataset.zip((genderLabDs, ageLabDs), name=\"label_zip\")\n",
    "    labelDs = labelDs.map(lambda g,a: {\"gender\": g, \"age\": a}, num_parallel_calls=tf.data.AUTOTUNE, name='label_dict')\n",
    "    \n",
    "    # Combine Images and Labels into dataset\n",
    "    ds = tf.data.Dataset.zip((imageDs, labelDs))\n",
    "    \n",
    "    # Configure Performance\n",
    "    if(configureDs is not None):\n",
    "        ds = configureDs(ds)\n",
    "    \n",
    "    # Pre Batch Preprocessing\n",
    "    for n,f in preBatch:\n",
    "        ds = ds.map(f, num_parallel_calls=tf.data.AUTOTUNE, name=n)\n",
    "    \n",
    "    # Batch\n",
    "    if(batchSize is not None):\n",
    "        ds = ds.batch(batchSize, name=\"ds_batch\")\n",
    "    \n",
    "    # Post Batch Preprocessing\n",
    "    for n,f in postBatch:\n",
    "        ds = ds.map(f, num_parallel_calls=tf.data.AUTOTUNE, name=n)\n",
    "    \n",
    "    return ds"
   ]
  },
  {
   "cell_type": "markdown",
   "id": "2320ed92",
   "metadata": {},
   "source": [
    "### Preprocessings"
   ]
  },
  {
   "cell_type": "code",
   "execution_count": 13,
   "id": "472b7576",
   "metadata": {},
   "outputs": [],
   "source": [
    "def trainConfigPerformance(ds):\n",
    "    #ds = ds.cache()\n",
    "    ds = ds.shuffle(buffer_size=100)\n",
    "    ds = ds.repeat()\n",
    "    return ds"
   ]
  },
  {
   "cell_type": "code",
   "execution_count": 14,
   "id": "adb98feb",
   "metadata": {},
   "outputs": [],
   "source": [
    "def valConfigPerformance(ds):\n",
    "    #ds = ds.cache()\n",
    "    return ds"
   ]
  },
  {
   "cell_type": "markdown",
   "id": "313da7f1",
   "metadata": {},
   "source": [
    "#### Preprocessing steps according to the reference paper"
   ]
  },
  {
   "cell_type": "code",
   "execution_count": 15,
   "id": "c7724a22",
   "metadata": {},
   "outputs": [],
   "source": [
    "def trainPreprocessA(img, lab):\n",
    "        \n",
    "        img = tf.image.random_crop(img, [CROP_HEIGHT, CROP_WIDTH, 3])\n",
    "        \n",
    "        ud = tf.random.uniform([], dtype=tf.float32)\n",
    "        udCond = tf.less(ud, 0.5)\n",
    "        \n",
    "        img = tf.cond(udCond, lambda: tf.image.flip_up_down(img), lambda: img)\n",
    "        \n",
    "        lr = tf.random.uniform([], dtype=tf.float32)\n",
    "        lrCond = tf.less(lr, 0.5)\n",
    "        \n",
    "        img = tf.cond(lrCond, lambda: tf.image.flip_left_right(img), lambda: img)\n",
    "        \n",
    "        img = tf.image.random_brightness(img, 63/255)\n",
    "        \n",
    "        img = tf.image.random_contrast(img, 0.2, 1.8) \n",
    "        \n",
    "        return img, lab"
   ]
  },
  {
   "cell_type": "code",
   "execution_count": 16,
   "id": "14ee59ce",
   "metadata": {},
   "outputs": [],
   "source": [
    "def valPreprocessA(img, lab):\n",
    "        \n",
    "        img = tf.image.crop_to_bounding_box(img,\n",
    "                                            (IMG_HEIGHT-CROP_HEIGHT) // 2,\n",
    "                                            (IMG_WIDTH-CROP_WIDTH) // 2,\n",
    "                                            CROP_HEIGHT,\n",
    "                                            CROP_WIDTH)\n",
    "        \n",
    "        return img, lab"
   ]
  },
  {
   "cell_type": "code",
   "execution_count": 17,
   "id": "a03ab680",
   "metadata": {},
   "outputs": [],
   "source": [
    "def imageStandardize(img, lab):\n",
    "    \n",
    "    img = tf.image.per_image_standardization(img)\n",
    "    \n",
    "    return img, lab"
   ]
  },
  {
   "cell_type": "markdown",
   "id": "326ec104",
   "metadata": {},
   "source": [
    "#### Label extractor "
   ]
  },
  {
   "cell_type": "code",
   "execution_count": 18,
   "id": "294a2ed7",
   "metadata": {},
   "outputs": [],
   "source": [
    "def extractGenderLabel(img, lab):\n",
    "    \n",
    "    lab = lab['gender']\n",
    "    \n",
    "    return img, lab"
   ]
  },
  {
   "cell_type": "code",
   "execution_count": 19,
   "id": "a98897ae",
   "metadata": {},
   "outputs": [],
   "source": [
    "def extractAgeLabel(img, lab):\n",
    "    \n",
    "    lab = lab['age']\n",
    "    \n",
    "    return img, lab"
   ]
  },
  {
   "cell_type": "markdown",
   "id": "47f7778c",
   "metadata": {},
   "source": [
    "### Generate Folds for K-Folds validation"
   ]
  },
  {
   "cell_type": "code",
   "execution_count": 20,
   "id": "4172d6ed",
   "metadata": {},
   "outputs": [],
   "source": [
    "def generateFoldDs(foldFiles, imgBaseFolder, imgPrefix, genderMap, ageMap, genderDepth, ageDepth, imgWidth, imgHeight, trainBatchSize, valBatchSize, trainConfigureDs=None, trainPreBatch=[], trainPostBatch=[], valConfigureDs=None, valPreBatch=[], valPostBatch=[]):\n",
    "    '''\n",
    "        Returns list of (train, validation) datasets\n",
    "    '''\n",
    "    \n",
    "    N = len(foldFiles)\n",
    "    \n",
    "    folds = []\n",
    "    \n",
    "    for i in range(N):\n",
    "        \n",
    "        trainFiles = foldFiles[:i]\n",
    "        if(i < N-1):\n",
    "            trainFiles.extend(foldFiles[i+1:])\n",
    "            \n",
    "        valFiles = foldFiles[i]\n",
    "        \n",
    "        trainDs = generateDs(foldFiles, imgBaseFolder, imgPrefix, genderMap, ageMap, genderDepth, ageDepth, imgWidth, imgHeight, trainBatchSize, configureDs=trainConfigureDs, preBatch=trainPreBatch, postBatch=trainPostBatch)\n",
    "        valDs = generateDs(foldFiles, imgBaseFolder, imgPrefix, genderMap, ageMap, genderDepth, ageDepth, imgWidth, imgHeight, valBatchSize, configureDs=valConfigureDs, preBatch=valPreBatch, postBatch=valPostBatch)\n",
    "        \n",
    "        folds.append((trainDs, valDs))\n",
    "        \n",
    "    return folds"
   ]
  },
  {
   "cell_type": "code",
   "execution_count": 21,
   "id": "a4f43dee",
   "metadata": {},
   "outputs": [],
   "source": [
    "trainPreBatch = [(\"train_process_a\", trainPreprocessA), \n",
    "                 (\"train_standardize\", imageStandardize), \n",
    "                 (\"train_extract_gender\", extractGenderLabel)]\n",
    "\n",
    "valPreBatch = [(\"val_process_a\", valPreprocessA), \n",
    "               (\"val_standardize\", imageStandardize), \n",
    "               (\"val_extract_gender\", extractGenderLabel)]"
   ]
  },
  {
   "cell_type": "code",
   "execution_count": 22,
   "id": "10474d0a",
   "metadata": {},
   "outputs": [
    {
     "name": "stderr",
     "output_type": "stream",
     "text": [
      "2022-11-09 11:30:32.015688: I tensorflow/core/platform/cpu_feature_guard.cc:193] This TensorFlow binary is optimized with oneAPI Deep Neural Network Library (oneDNN) to use the following CPU instructions in performance-critical operations:  AVX2 FMA\n",
      "To enable them in other operations, rebuild TensorFlow with the appropriate compiler flags.\n",
      "2022-11-09 11:30:32.504193: I tensorflow/core/common_runtime/gpu/gpu_device.cc:1532] Created device /job:localhost/replica:0/task:0/device:GPU:0 with 7213 MB memory:  -> device: 0, name: NVIDIA TITAN RTX, pci bus id: 0000:02:00.0, compute capability: 7.5\n"
     ]
    }
   ],
   "source": [
    "folds = generateFoldDs(foldFiles, \"adience/faces\", \"coarse_tilt_aligned_face\", genderMap, ageMap, 2, 8, \n",
    "                       IMG_WIDTH, IMG_HEIGHT, TRAIN_BATCH_SIZE, VAL_BATCH_SIZE, \n",
    "                       trainConfigureDs=trainConfigPerformance, trainPreBatch=trainPreBatch, \n",
    "                       valConfigureDs=valConfigPerformance, valPreBatch=valPreBatch)"
   ]
  },
  {
   "cell_type": "code",
   "execution_count": 23,
   "id": "57d814af",
   "metadata": {},
   "outputs": [
    {
     "data": {
      "text/plain": [
       "5"
      ]
     },
     "execution_count": 23,
     "metadata": {},
     "output_type": "execute_result"
    }
   ],
   "source": [
    "len(folds)"
   ]
  },
  {
   "cell_type": "markdown",
   "id": "06b5f9bc",
   "metadata": {},
   "source": [
    "### Check data"
   ]
  },
  {
   "cell_type": "code",
   "execution_count": 24,
   "id": "6d0df0fb",
   "metadata": {},
   "outputs": [],
   "source": [
    "for x,y in folds[0][0].take(1):\n",
    "    pass"
   ]
  },
  {
   "cell_type": "code",
   "execution_count": 25,
   "id": "2c9e2833",
   "metadata": {
    "scrolled": true
   },
   "outputs": [
    {
     "data": {
      "text/plain": [
       "<tf.Tensor: shape=(4, 227, 227, 3), dtype=float32, numpy=\n",
       "array([[[[-2.35493708e+00, -2.13113379e+00, -1.89001060e+00],\n",
       "         [-2.35493708e+00, -2.13113379e+00, -1.89001060e+00],\n",
       "         [-2.35493708e+00, -2.13113379e+00, -1.89001060e+00],\n",
       "         ...,\n",
       "         [-3.91256362e-01, -4.48904008e-01, -1.03916371e+00],\n",
       "         [ 5.86054362e-02, -4.48353998e-02, -6.50697887e-01],\n",
       "         [ 6.77051604e-01,  5.39041579e-01, -5.43863624e-02]],\n",
       "\n",
       "        [[-2.35493708e+00, -2.13113379e+00, -1.89001060e+00],\n",
       "         [-2.35493708e+00, -2.13113379e+00, -1.89001060e+00],\n",
       "         [-2.35493708e+00, -2.13113379e+00, -1.89001060e+00],\n",
       "         ...,\n",
       "         [-1.25750348e-01, -1.95080176e-01, -7.74399102e-01],\n",
       "         [ 2.67641217e-01,  1.64200380e-01, -4.41662014e-01],\n",
       "         [ 7.86554635e-01,  6.41381145e-01,  5.15349321e-02]],\n",
       "\n",
       "        [[-2.35493708e+00, -2.13113379e+00, -1.89001060e+00],\n",
       "         [-2.35493708e+00, -2.13113379e+00, -1.89001060e+00],\n",
       "         [-2.35493708e+00, -2.13113379e+00, -1.89001060e+00],\n",
       "         ...,\n",
       "         [ 6.05516173e-02, -2.85253804e-02, -5.68593681e-01],\n",
       "         [ 3.27915847e-01,  2.24474818e-01, -3.66577268e-01],\n",
       "         [ 1.04440331e+00,  9.16862667e-01,  2.70884156e-01]],\n",
       "\n",
       "        ...,\n",
       "\n",
       "        [[-2.35493708e+00, -2.13113379e+00, -1.89001060e+00],\n",
       "         [-2.35493708e+00, -2.13113379e+00, -1.89001060e+00],\n",
       "         [-2.35493708e+00, -2.13113379e+00, -1.89001060e+00],\n",
       "         ...,\n",
       "         [-8.98271441e-01, -7.36127019e-01, -6.76071167e-01],\n",
       "         [-1.16962731e+00, -1.00748277e+00, -9.47427034e-01],\n",
       "         [-1.72103322e+00, -1.55888891e+00, -1.46300077e+00]],\n",
       "\n",
       "        [[-2.35493708e+00, -2.13113379e+00, -1.89001060e+00],\n",
       "         [-2.35493708e+00, -2.13113379e+00, -1.89001060e+00],\n",
       "         [-2.35493708e+00, -2.13113379e+00, -1.89001060e+00],\n",
       "         ...,\n",
       "         [-2.34152842e+00, -2.12799954e+00, -1.89001060e+00],\n",
       "         [-2.32925057e+00, -2.10719180e+00, -1.89001060e+00],\n",
       "         [-2.35215855e+00, -2.11297417e+00, -1.89001060e+00]],\n",
       "\n",
       "        [[-2.35493708e+00, -2.13113379e+00, -1.89001060e+00],\n",
       "         [-2.35493708e+00, -2.13113379e+00, -1.89001060e+00],\n",
       "         [-2.35493708e+00, -2.13113379e+00, -1.86918175e+00],\n",
       "         ...,\n",
       "         [-2.35493708e+00, -2.11188412e+00, -1.89001060e+00],\n",
       "         [-2.35493708e+00, -2.11188412e+00, -1.89001060e+00],\n",
       "         [-2.35493708e+00, -2.11271763e+00, -1.88834345e+00]]],\n",
       "\n",
       "\n",
       "       [[[ 3.94903310e-02, -4.66765612e-01, -2.76506454e-01],\n",
       "         [ 2.08998799e-01, -3.16139072e-01, -2.02330306e-01],\n",
       "         [-2.92726815e-01, -8.18892419e-01, -8.14865828e-01],\n",
       "         ...,\n",
       "         [ 2.20473051e+00,  1.72187221e+00,  1.46237600e+00],\n",
       "         [ 2.29702973e+00,  1.82550359e+00,  1.65411472e+00],\n",
       "         [ 4.29161608e-01, -2.57960632e-02, -4.44651395e-02]],\n",
       "\n",
       "        [[ 5.19510508e-01, -1.55198528e-03,  4.47961986e-02],\n",
       "         [ 5.17058194e-01, -3.75656062e-03, -1.27263991e-02],\n",
       "         [-2.34987482e-01, -7.52551198e-01, -7.94848084e-01],\n",
       "         ...,\n",
       "         [ 2.27753472e+00,  1.77105999e+00,  1.49361694e+00],\n",
       "         [ 2.31553745e+00,  1.83533180e+00,  1.64836764e+00],\n",
       "         [ 6.03104234e-01,  1.36297837e-01,  7.54837096e-02]],\n",
       "\n",
       "        [[ 6.12099409e-01,  7.38709867e-02, -2.98619475e-02],\n",
       "         [ 7.76402593e-01,  2.38174230e-01,  1.25633404e-01],\n",
       "         [-1.64153486e-01, -6.80453718e-01, -7.55685866e-01],\n",
       "         ...,\n",
       "         [ 2.31107116e+00,  1.79715884e+00,  1.51654720e+00],\n",
       "         [ 2.34707069e+00,  1.85334647e+00,  1.63800669e+00],\n",
       "         [ 1.21961451e+00,  7.64721811e-01,  6.18145049e-01]],\n",
       "\n",
       "        ...,\n",
       "\n",
       "        [[ 1.96411884e+00,  8.43766153e-01,  2.36921143e-02],\n",
       "         [ 1.84926486e+00,  7.83469737e-01,  6.55361786e-02],\n",
       "         [ 1.54626203e+00,  6.32817924e-01,  7.42330104e-02],\n",
       "         ...,\n",
       "         [ 1.80839777e-01, -9.33338165e-01, -1.35310316e+00],\n",
       "         [ 1.98853597e-01, -9.41684604e-01, -1.32579803e+00],\n",
       "         [ 1.85533553e-01, -9.55837786e-01, -1.33991683e+00]],\n",
       "\n",
       "        [[ 1.98028779e+00,  8.76942873e-01,  4.83651981e-02],\n",
       "         [ 1.96120071e+00,  8.96539330e-01,  1.75204650e-01],\n",
       "         [ 1.49998116e+00,  5.63175380e-01, -1.43030947e-02],\n",
       "         ...,\n",
       "         [ 1.58426061e-01, -9.81609464e-01, -1.38958633e+00],\n",
       "         [ 2.49636829e-01, -9.27088976e-01, -1.32283568e+00],\n",
       "         [ 2.38384113e-01, -9.38341558e-01, -1.33408844e+00]],\n",
       "\n",
       "        [[ 1.94866335e+00,  8.45317841e-01,  1.00996643e-02],\n",
       "         [ 1.92657113e+00,  8.73006165e-01,  1.18382275e-01],\n",
       "         [ 1.59250867e+00,  6.55703247e-01,  7.82247633e-02],\n",
       "         ...,\n",
       "         [ 1.78949893e-01, -9.61085439e-01, -1.37570298e+00],\n",
       "         [ 1.84467435e-01, -9.82297480e-01, -1.38136458e+00],\n",
       "         [ 1.71745792e-01, -9.95019078e-01, -1.39424193e+00]]],\n",
       "\n",
       "\n",
       "       [[[-1.22662234e+00, -1.11174488e+00, -1.00016689e+00],\n",
       "         [-1.19798887e+00, -1.12429452e+00, -9.98988807e-01],\n",
       "         [-1.21474338e+00, -1.14104915e+00, -1.01574337e+00],\n",
       "         ...,\n",
       "         [-1.23793614e+00, -1.09451365e+00, -1.01104486e+00],\n",
       "         [-1.24187529e+00, -1.09845293e+00, -1.00103843e+00],\n",
       "         [-1.26661050e+00, -1.12318814e+00, -1.02577353e+00]],\n",
       "\n",
       "        [[-1.17755044e+00, -1.06267297e+00, -9.54799175e-01],\n",
       "         [-1.18016183e+00, -1.10646760e+00, -9.84866142e-01],\n",
       "         [-1.20046401e+00, -1.12676990e+00, -1.00516832e+00],\n",
       "         ...,\n",
       "         [-1.28512192e+00, -1.14169931e+00, -1.04428494e+00],\n",
       "         [-1.25499713e+00, -1.11157465e+00, -1.01416016e+00],\n",
       "         [-1.12290168e+00, -9.79479194e-01, -8.82064700e-01]],\n",
       "\n",
       "        [[-1.29033446e+00, -1.16695881e+00, -1.09482074e+00],\n",
       "         [-1.22509706e+00, -1.14595866e+00, -1.05093086e+00],\n",
       "         [-1.20971811e+00, -1.13602376e+00, -1.02466357e+00],\n",
       "         ...,\n",
       "         [-1.20330691e+00, -1.05988455e+00, -9.62469995e-01],\n",
       "         [-1.15798354e+00, -1.01456118e+00, -9.17146683e-01],\n",
       "         [-1.24065983e+00, -1.09723747e+00, -9.99822974e-01]],\n",
       "\n",
       "        ...,\n",
       "\n",
       "        [[-1.83979464e+00, -1.83582842e+00, -1.76630533e+00],\n",
       "         [-1.83979464e+00, -1.83582842e+00, -1.76630533e+00],\n",
       "         [-1.83979464e+00, -1.83582842e+00, -1.76630533e+00],\n",
       "         ...,\n",
       "         [-1.79868293e+00, -1.79471684e+00, -1.72519362e+00],\n",
       "         [-1.83979464e+00, -1.83582842e+00, -1.76630533e+00],\n",
       "         [-1.83979464e+00, -1.83582842e+00, -1.76630533e+00]],\n",
       "\n",
       "        [[-1.83979464e+00, -1.83582842e+00, -1.76630533e+00],\n",
       "         [-1.83979464e+00, -1.83582842e+00, -1.76630533e+00],\n",
       "         [-1.83979464e+00, -1.83582842e+00, -1.76630533e+00],\n",
       "         ...,\n",
       "         [-1.83979464e+00, -1.83582842e+00, -1.76630533e+00],\n",
       "         [-1.83979464e+00, -1.83582842e+00, -1.76630533e+00],\n",
       "         [-1.83979464e+00, -1.83582842e+00, -1.76630533e+00]],\n",
       "\n",
       "        [[-1.83979464e+00, -1.83582842e+00, -1.76630533e+00],\n",
       "         [-1.83979464e+00, -1.83582842e+00, -1.76630533e+00],\n",
       "         [-1.83979464e+00, -1.83582842e+00, -1.76630533e+00],\n",
       "         ...,\n",
       "         [-1.83979464e+00, -1.83582842e+00, -1.76630533e+00],\n",
       "         [-1.83979464e+00, -1.83582842e+00, -1.76630533e+00],\n",
       "         [-1.83979464e+00, -1.83582842e+00, -1.76630533e+00]]],\n",
       "\n",
       "\n",
       "       [[[-1.76700675e+00, -1.65304077e+00, -1.55036688e+00],\n",
       "         [-1.54335797e+00, -1.42939186e+00, -1.32671821e+00],\n",
       "         [-9.48309541e-01, -8.34343493e-01, -7.31669784e-01],\n",
       "         ...,\n",
       "         [-1.76700675e+00, -1.65304077e+00, -1.55036688e+00],\n",
       "         [-1.76700675e+00, -1.65304077e+00, -1.55036688e+00],\n",
       "         [-1.76700675e+00, -1.65304077e+00, -1.55036688e+00]],\n",
       "\n",
       "        [[-1.76700675e+00, -1.65304077e+00, -1.55036688e+00],\n",
       "         [-1.18443096e+00, -1.07046485e+00, -9.67791140e-01],\n",
       "         [-9.20373023e-01, -8.06406915e-01, -7.03733206e-01],\n",
       "         ...,\n",
       "         [-1.76700675e+00, -1.65304077e+00, -1.55036688e+00],\n",
       "         [-1.76700675e+00, -1.65304077e+00, -1.55036688e+00],\n",
       "         [-1.76700675e+00, -1.65304077e+00, -1.55036688e+00]],\n",
       "\n",
       "        [[-1.76520145e+00, -1.65123522e+00, -1.54856157e+00],\n",
       "         [-1.06792986e+00, -9.53963757e-01, -8.51289988e-01],\n",
       "         [-8.75514388e-01, -7.61548340e-01, -6.58874631e-01],\n",
       "         ...,\n",
       "         [-1.76700675e+00, -1.65304077e+00, -1.55036688e+00],\n",
       "         [-1.76700675e+00, -1.65304077e+00, -1.55036688e+00],\n",
       "         [-1.76700675e+00, -1.65304077e+00, -1.55036688e+00]],\n",
       "\n",
       "        ...,\n",
       "\n",
       "        [[-1.30258036e+00, -1.18861425e+00, -1.05209625e+00],\n",
       "         [-1.20381534e+00, -1.07847977e+00, -9.41961706e-01],\n",
       "         [-1.23078501e+00, -1.09989679e+00, -9.63378787e-01],\n",
       "         ...,\n",
       "         [-1.76700675e+00, -1.65304077e+00, -1.55036688e+00],\n",
       "         [-1.76700675e+00, -1.65304077e+00, -1.55036688e+00],\n",
       "         [-1.76700675e+00, -1.65304077e+00, -1.55036688e+00]],\n",
       "\n",
       "        [[-1.31592488e+00, -1.20195866e+00, -1.06544077e+00],\n",
       "         [-1.27837873e+00, -1.16441262e+00, -1.02789462e+00],\n",
       "         [-1.20911193e+00, -1.09514570e+00, -9.58627701e-01],\n",
       "         ...,\n",
       "         [-1.76700675e+00, -1.65304077e+00, -1.55036688e+00],\n",
       "         [-1.76700675e+00, -1.65304077e+00, -1.55036688e+00],\n",
       "         [-1.76700675e+00, -1.65304077e+00, -1.55036688e+00]],\n",
       "\n",
       "        [[-1.34510076e+00, -1.23113453e+00, -1.09461665e+00],\n",
       "         [-1.32265902e+00, -1.20869279e+00, -1.07217491e+00],\n",
       "         [-1.31159925e+00, -1.19763315e+00, -1.06111515e+00],\n",
       "         ...,\n",
       "         [-1.76700675e+00, -1.65304077e+00, -1.55036688e+00],\n",
       "         [-1.76700675e+00, -1.65304077e+00, -1.55036688e+00],\n",
       "         [-1.76700675e+00, -1.65304077e+00, -1.55036688e+00]]]],\n",
       "      dtype=float32)>"
      ]
     },
     "execution_count": 25,
     "metadata": {},
     "output_type": "execute_result"
    }
   ],
   "source": [
    "x"
   ]
  },
  {
   "cell_type": "code",
   "execution_count": 26,
   "id": "819ce578",
   "metadata": {
    "scrolled": true
   },
   "outputs": [
    {
     "data": {
      "text/plain": [
       "<tf.Tensor: shape=(4, 2), dtype=float32, numpy=\n",
       "array([[0., 1.],\n",
       "       [1., 0.],\n",
       "       [1., 0.],\n",
       "       [0., 1.]], dtype=float32)>"
      ]
     },
     "execution_count": 26,
     "metadata": {},
     "output_type": "execute_result"
    }
   ],
   "source": [
    "y"
   ]
  },
  {
   "cell_type": "markdown",
   "id": "f78c5d50",
   "metadata": {},
   "source": [
    "### Model"
   ]
  },
  {
   "cell_type": "code",
   "execution_count": 27,
   "id": "a70f6af2",
   "metadata": {},
   "outputs": [],
   "source": [
    "def createModel():\n",
    "    inp = tf.keras.Input(shape=(CROP_HEIGHT, CROP_WIDTH, 3))\n",
    "\n",
    "    backbone = tf.keras.applications.MobileNetV3Large(include_top=False, input_shape=(CROP_HEIGHT, CROP_WIDTH, 3))\n",
    "    backbone.trainable = True\n",
    "    \n",
    "    finetune_layer_no = 20\n",
    "    for layer in backbone.layers[:finetune_layer_no]:\n",
    "        layer.trainable = False\n",
    "    \n",
    "    flat1 = tf.keras.layers.Flatten(name='flat1')\n",
    "    fc1 = tf.keras.layers.Dense(128, activation='relu', kernel_initializer=tf.keras.initializers.RandomNormal(stddev=0.005), bias_initializer='ones', name='fc1')\n",
    "    do1 = tf.keras.layers.Dropout(0.5, name='do1')\n",
    "\n",
    "    fc2 = tf.keras.layers.Dense(128, activation='relu', kernel_initializer=tf.keras.initializers.RandomNormal(stddev=0.005), bias_initializer='ones', name='fc2')\n",
    "    do2 = tf.keras.layers.Dropout(0.5, name='do2')\n",
    "\n",
    "    fc3 = tf.keras.layers.Dense(2, activation='softmax', kernel_initializer=tf.keras.initializers.RandomNormal(stddev=0.01), name='fc3')\n",
    "\n",
    "    o = tf.keras.applications.mobilenet_v3.preprocess_input(inp)\n",
    "    o = backbone(o, training=False)\n",
    "    o = flat1(o)\n",
    "    o = fc1(o)\n",
    "    o = do1(o)\n",
    "\n",
    "    o = fc2(o)\n",
    "    o = do2(o)\n",
    "\n",
    "    o = fc3(o)\n",
    "\n",
    "    model = tf.keras.models.Model(inputs=inp, outputs=o, name='baseline_1')\n",
    "    \n",
    "    return model"
   ]
  },
  {
   "cell_type": "code",
   "execution_count": 28,
   "id": "8e962234",
   "metadata": {},
   "outputs": [
    {
     "name": "stdout",
     "output_type": "stream",
     "text": [
      "WARNING:tensorflow:`input_shape` is undefined or non-square, or `rows` is not 224. Weights for input shape (224, 224) will be loaded as the default.\n"
     ]
    }
   ],
   "source": [
    "model = createModel()"
   ]
  },
  {
   "cell_type": "code",
   "execution_count": 29,
   "id": "b73a21c6",
   "metadata": {},
   "outputs": [
    {
     "name": "stdout",
     "output_type": "stream",
     "text": [
      "Model: \"baseline_1\"\n",
      "_________________________________________________________________\n",
      " Layer (type)                Output Shape              Param #   \n",
      "=================================================================\n",
      " input_1 (InputLayer)        [(None, 227, 227, 3)]     0         \n",
      "                                                                 \n",
      " MobilenetV3large (Functiona  (None, 8, 8, 960)        2996352   \n",
      " l)                                                              \n",
      "                                                                 \n",
      " flat1 (Flatten)             (None, 61440)             0         \n",
      "                                                                 \n",
      " fc1 (Dense)                 (None, 128)               7864448   \n",
      "                                                                 \n",
      " do1 (Dropout)               (None, 128)               0         \n",
      "                                                                 \n",
      " fc2 (Dense)                 (None, 128)               16512     \n",
      "                                                                 \n",
      " do2 (Dropout)               (None, 128)               0         \n",
      "                                                                 \n",
      " fc3 (Dense)                 (None, 2)                 258       \n",
      "                                                                 \n",
      "=================================================================\n",
      "Total params: 10,877,570\n",
      "Trainable params: 10,850,386\n",
      "Non-trainable params: 27,184\n",
      "_________________________________________________________________\n"
     ]
    }
   ],
   "source": [
    "model.summary()"
   ]
  },
  {
   "cell_type": "markdown",
   "id": "21fcc28d",
   "metadata": {},
   "source": [
    "### Compile Model"
   ]
  },
  {
   "cell_type": "code",
   "execution_count": 30,
   "id": "1ffbbb3e",
   "metadata": {},
   "outputs": [],
   "source": [
    "STEPS_PER_EPOCH = 1000\n",
    "EPOCH = 100\n",
    "\n",
    "START_EPOCH = 0\n",
    "END_EPOCH = START_EPOCH + EPOCH"
   ]
  },
  {
   "cell_type": "markdown",
   "id": "74cc17f1",
   "metadata": {},
   "source": [
    "#### Learning Rate Schedule"
   ]
  },
  {
   "cell_type": "code",
   "execution_count": 31,
   "id": "d1ab143d",
   "metadata": {},
   "outputs": [],
   "source": [
    "def schedule(epoch, lr):\n",
    "    return lr"
   ]
  },
  {
   "cell_type": "code",
   "execution_count": 32,
   "id": "222f6cb8",
   "metadata": {},
   "outputs": [],
   "source": [
    "logBasePath = \"log/baseline_mobilenet_4\"\n",
    "logPrefix = \"log\""
   ]
  },
  {
   "cell_type": "code",
   "execution_count": 33,
   "id": "a1b72905",
   "metadata": {},
   "outputs": [
    {
     "name": "stdout",
     "output_type": "stream",
     "text": [
      "WARNING:tensorflow:`input_shape` is undefined or non-square, or `rows` is not 224. Weights for input shape (224, 224) will be loaded as the default.\n"
     ]
    },
    {
     "name": "stderr",
     "output_type": "stream",
     "text": [
      "2022-11-09 11:30:51.943589: I tensorflow/core/profiler/lib/profiler_session.cc:99] Profiler session initializing.\n",
      "2022-11-09 11:30:51.943614: I tensorflow/core/profiler/lib/profiler_session.cc:114] Profiler session started.\n",
      "2022-11-09 11:30:51.943638: I tensorflow/core/profiler/internal/gpu/cupti_tracer.cc:1665] Profiler found 1 GPUs\n",
      "2022-11-09 11:30:51.943872: W tensorflow/stream_executor/platform/default/dso_loader.cc:64] Could not load dynamic library 'libcupti.so.11.2'; dlerror: libcupti.so.11.2: cannot open shared object file: No such file or directory; LD_LIBRARY_PATH: /usr/local/cuda-11.2/lib64:/home/ntcadmin/env/trt-11.0/TensorRT-7.1.3.4/lib:\n",
      "2022-11-09 11:30:51.943947: W tensorflow/stream_executor/platform/default/dso_loader.cc:64] Could not load dynamic library 'libcupti.so'; dlerror: libcupti.so: cannot open shared object file: No such file or directory; LD_LIBRARY_PATH: /usr/local/cuda-11.2/lib64:/home/ntcadmin/env/trt-11.0/TensorRT-7.1.3.4/lib:\n",
      "2022-11-09 11:30:51.943957: E tensorflow/core/profiler/internal/gpu/cupti_error_manager.cc:135] cuptiGetTimestamp: error 999: \n",
      "2022-11-09 11:30:51.943964: E tensorflow/core/profiler/internal/gpu/cupti_error_manager.cc:184] cuptiSubscribe: ignored due to a previous error.\n",
      "2022-11-09 11:30:51.943968: E tensorflow/core/profiler/internal/gpu/cupti_error_manager.cc:457] cuptiGetResultString: ignored due to a previous error.\n",
      "2022-11-09 11:30:51.943972: E tensorflow/core/profiler/internal/gpu/cupti_tracer.cc:1716] function cupti_interface_->Subscribe( &subscriber_, (CUpti_CallbackFunc)ApiCallback, this)failed with error \n",
      "2022-11-09 11:30:51.943988: I tensorflow/core/profiler/lib/profiler_session.cc:126] Profiler session tear down.\n",
      "2022-11-09 11:30:51.944004: E tensorflow/core/profiler/internal/gpu/cupti_error_manager.cc:140] cuptiFinalize: ignored due to a previous error.\n",
      "2022-11-09 11:30:51.944009: E tensorflow/core/profiler/internal/gpu/cupti_error_manager.cc:457] cuptiGetResultString: ignored due to a previous error.\n",
      "2022-11-09 11:30:51.944012: E tensorflow/core/profiler/internal/gpu/cupti_tracer.cc:1808] function cupti_interface_->Finalize()failed with error \n",
      "2022-11-09 11:30:53.932771: I tensorflow/stream_executor/cuda/cuda_dnn.cc:384] Loaded cuDNN version 8100\n"
     ]
    },
    {
     "name": "stdout",
     "output_type": "stream",
     "text": [
      "3528/3528 [==============================] - 51s 14ms/step - loss: 0.6945 - accuracy: 0.5232\n",
      "Epoch 1/100\n",
      "   6/1000 [..............................] - ETA: 34s - loss: 0.7453 - accuracy: 0.2917  "
     ]
    },
    {
     "name": "stderr",
     "output_type": "stream",
     "text": [
      "2022-11-09 11:31:48.440888: I tensorflow/core/profiler/lib/profiler_session.cc:99] Profiler session initializing.\n",
      "2022-11-09 11:31:48.441163: I tensorflow/core/profiler/lib/profiler_session.cc:114] Profiler session started.\n",
      "2022-11-09 11:31:48.441246: E tensorflow/core/profiler/internal/gpu/cupti_error_manager.cc:133] cuptiGetTimestamp: ignored due to a previous error.\n",
      "2022-11-09 11:31:48.441292: E tensorflow/core/profiler/internal/gpu/cupti_error_manager.cc:184] cuptiSubscribe: ignored due to a previous error.\n",
      "2022-11-09 11:31:48.441327: E tensorflow/core/profiler/internal/gpu/cupti_error_manager.cc:457] cuptiGetResultString: ignored due to a previous error.\n",
      "2022-11-09 11:31:48.441365: E tensorflow/core/profiler/internal/gpu/cupti_tracer.cc:1716] function cupti_interface_->Subscribe( &subscriber_, (CUpti_CallbackFunc)ApiCallback, this)failed with error \n"
     ]
    },
    {
     "name": "stdout",
     "output_type": "stream",
     "text": [
      "\b\b\b\b\b\b\b\b\b\b\b\b\b\b\b\b\b\b\b\b\b\b\b\b\b\b\b\b\b\b\b\b\b\b\b\b\b\b\b\b\b\b\b\b\b\b\b\b\b\b\b\b\b\b\b\b\b\b\b\b\b\b\b\b\b\b\b\b\b\b\b\b\b\b\b\b\b\b\b\b\b\b\b\b\b\b\b\r",
      "   8/1000 [..............................] - ETA: 34s - loss: 0.7461 - accuracy: 0.2812"
     ]
    },
    {
     "name": "stderr",
     "output_type": "stream",
     "text": [
      "2022-11-09 11:31:48.755575: I tensorflow/core/profiler/lib/profiler_session.cc:66] Profiler session collecting data.\n",
      "2022-11-09 11:31:48.756911: E tensorflow/core/profiler/internal/gpu/cupti_error_manager.cc:140] cuptiFinalize: ignored due to a previous error.\n",
      "2022-11-09 11:31:48.756930: E tensorflow/core/profiler/internal/gpu/cupti_error_manager.cc:457] cuptiGetResultString: ignored due to a previous error.\n",
      "2022-11-09 11:31:48.756938: E tensorflow/core/profiler/internal/gpu/cupti_tracer.cc:1808] function cupti_interface_->Finalize()failed with error \n",
      "2022-11-09 11:31:48.829619: E tensorflow/core/profiler/internal/gpu/cupti_error_manager.cc:133] cuptiGetTimestamp: ignored due to a previous error.\n",
      "2022-11-09 11:31:48.829649: E tensorflow/core/profiler/internal/gpu/cupti_error_manager.cc:133] cuptiGetTimestamp: ignored due to a previous error.\n",
      "2022-11-09 11:31:48.829655: I tensorflow/core/profiler/internal/gpu/cupti_collector.cc:521]  GpuTracer has collected 0 callback api events and 0 activity events. \n",
      "2022-11-09 11:31:48.849975: I tensorflow/core/profiler/lib/profiler_session.cc:126] Profiler session tear down.\n",
      "2022-11-09 11:31:48.868107: I tensorflow/core/profiler/rpc/client/save_profile.cc:136] Creating directory: log/baseline_mobilenet_4/log_0/plugins/profile/2022_11_09_11_31_48\n",
      "\n",
      "2022-11-09 11:31:48.874309: I tensorflow/core/profiler/rpc/client/save_profile.cc:142] Dumped gzipped tool data for trace.json.gz to log/baseline_mobilenet_4/log_0/plugins/profile/2022_11_09_11_31_48/ntcadmin-scse.trace.json.gz\n",
      "2022-11-09 11:31:48.940552: I tensorflow/core/profiler/rpc/client/save_profile.cc:136] Creating directory: log/baseline_mobilenet_4/log_0/plugins/profile/2022_11_09_11_31_48\n",
      "\n",
      "2022-11-09 11:31:48.947455: I tensorflow/core/profiler/rpc/client/save_profile.cc:142] Dumped gzipped tool data for memory_profile.json.gz to log/baseline_mobilenet_4/log_0/plugins/profile/2022_11_09_11_31_48/ntcadmin-scse.memory_profile.json.gz\n",
      "2022-11-09 11:31:48.949060: I tensorflow/core/profiler/rpc/client/capture_profile.cc:251] Creating directory: log/baseline_mobilenet_4/log_0/plugins/profile/2022_11_09_11_31_48\n",
      "Dumped tool data for xplane.pb to log/baseline_mobilenet_4/log_0/plugins/profile/2022_11_09_11_31_48/ntcadmin-scse.xplane.pb\n",
      "Dumped tool data for overview_page.pb to log/baseline_mobilenet_4/log_0/plugins/profile/2022_11_09_11_31_48/ntcadmin-scse.overview_page.pb\n",
      "Dumped tool data for input_pipeline.pb to log/baseline_mobilenet_4/log_0/plugins/profile/2022_11_09_11_31_48/ntcadmin-scse.input_pipeline.pb\n",
      "Dumped tool data for tensorflow_stats.pb to log/baseline_mobilenet_4/log_0/plugins/profile/2022_11_09_11_31_48/ntcadmin-scse.tensorflow_stats.pb\n",
      "Dumped tool data for kernel_stats.pb to log/baseline_mobilenet_4/log_0/plugins/profile/2022_11_09_11_31_48/ntcadmin-scse.kernel_stats.pb\n",
      "\n"
     ]
    },
    {
     "name": "stdout",
     "output_type": "stream",
     "text": [
      "1000/1000 [==============================] - ETA: 0s - loss: 0.6782 - accuracy: 0.5723"
     ]
    },
    {
     "name": "stderr",
     "output_type": "stream",
     "text": [
      "2022-11-09 11:33:03.023470: W tensorflow/core/framework/cpu_allocator_impl.cc:82] Allocation of 1887436800 exceeds 10% of free system memory.\n"
     ]
    },
    {
     "name": "stdout",
     "output_type": "stream",
     "text": [
      "1000/1000 [==============================] - 80s 75ms/step - loss: 0.6782 - accuracy: 0.5723 - val_loss: 0.7254 - val_accuracy: 0.4959 - lr: 1.0000e-05\n",
      "Epoch 2/100\n",
      " 999/1000 [============================>.] - ETA: 0s - loss: 0.6472 - accuracy: 0.6294"
     ]
    },
    {
     "name": "stderr",
     "output_type": "stream",
     "text": [
      "2022-11-09 11:34:17.847871: W tensorflow/core/framework/cpu_allocator_impl.cc:82] Allocation of 1887436800 exceeds 10% of free system memory.\n"
     ]
    },
    {
     "name": "stdout",
     "output_type": "stream",
     "text": [
      "1000/1000 [==============================] - 75s 75ms/step - loss: 0.6473 - accuracy: 0.6290 - val_loss: 0.6923 - val_accuracy: 0.5232 - lr: 1.0000e-05\n",
      "Epoch 3/100\n",
      " 999/1000 [============================>.] - ETA: 0s - loss: 0.6541 - accuracy: 0.6081"
     ]
    },
    {
     "name": "stderr",
     "output_type": "stream",
     "text": [
      "2022-11-09 11:35:32.855660: W tensorflow/core/framework/cpu_allocator_impl.cc:82] Allocation of 1887436800 exceeds 10% of free system memory.\n"
     ]
    },
    {
     "name": "stdout",
     "output_type": "stream",
     "text": [
      "1000/1000 [==============================] - 75s 75ms/step - loss: 0.6540 - accuracy: 0.6083 - val_loss: 0.6694 - val_accuracy: 0.5319 - lr: 1.0000e-05\n",
      "Epoch 4/100\n",
      " 999/1000 [============================>.] - ETA: 0s - loss: 0.6166 - accuracy: 0.6702"
     ]
    },
    {
     "name": "stderr",
     "output_type": "stream",
     "text": [
      "2022-11-09 11:36:48.032869: W tensorflow/core/framework/cpu_allocator_impl.cc:82] Allocation of 1887436800 exceeds 10% of free system memory.\n"
     ]
    },
    {
     "name": "stdout",
     "output_type": "stream",
     "text": [
      "1000/1000 [==============================] - 75s 75ms/step - loss: 0.6164 - accuracy: 0.6705 - val_loss: 0.6801 - val_accuracy: 0.5427 - lr: 1.0000e-05\n",
      "Epoch 5/100\n",
      " 999/1000 [============================>.] - ETA: 0s - loss: 0.5422 - accuracy: 0.7345"
     ]
    },
    {
     "name": "stderr",
     "output_type": "stream",
     "text": [
      "2022-11-09 11:38:05.441273: W tensorflow/core/framework/cpu_allocator_impl.cc:82] Allocation of 1887436800 exceeds 10% of free system memory.\n"
     ]
    },
    {
     "name": "stdout",
     "output_type": "stream",
     "text": [
      "1000/1000 [==============================] - 77s 77ms/step - loss: 0.5420 - accuracy: 0.7347 - val_loss: 0.5542 - val_accuracy: 0.7198 - lr: 1.0000e-05\n",
      "Epoch 6/100\n",
      "1000/1000 [==============================] - 77s 77ms/step - loss: 0.5153 - accuracy: 0.7455 - val_loss: 0.5367 - val_accuracy: 0.7277 - lr: 1.0000e-05\n",
      "Epoch 7/100\n",
      "1000/1000 [==============================] - 77s 77ms/step - loss: 0.5436 - accuracy: 0.7218 - val_loss: 0.5016 - val_accuracy: 0.7491 - lr: 1.0000e-05\n",
      "Epoch 8/100\n",
      "1000/1000 [==============================] - 77s 78ms/step - loss: 0.4479 - accuracy: 0.7983 - val_loss: 0.4935 - val_accuracy: 0.7597 - lr: 1.0000e-05\n",
      "Epoch 9/100\n",
      "1000/1000 [==============================] - 78s 78ms/step - loss: 0.4378 - accuracy: 0.8015 - val_loss: 0.5010 - val_accuracy: 0.7578 - lr: 1.0000e-05\n",
      "Epoch 10/100\n",
      "1000/1000 [==============================] - 78s 78ms/step - loss: 0.4612 - accuracy: 0.7780 - val_loss: 0.4396 - val_accuracy: 0.7858 - lr: 1.0000e-05\n",
      "Epoch 11/100\n",
      "1000/1000 [==============================] - 77s 77ms/step - loss: 0.4137 - accuracy: 0.8110 - val_loss: 0.5747 - val_accuracy: 0.6928 - lr: 1.0000e-05\n",
      "Epoch 12/100\n",
      "1000/1000 [==============================] - 76s 76ms/step - loss: 0.3817 - accuracy: 0.8325 - val_loss: 0.4799 - val_accuracy: 0.7783 - lr: 1.0000e-05\n",
      "Epoch 13/100\n",
      "1000/1000 [==============================] - 77s 77ms/step - loss: 0.3917 - accuracy: 0.8177 - val_loss: 0.4184 - val_accuracy: 0.8019 - lr: 1.0000e-05\n",
      "Epoch 14/100\n",
      "1000/1000 [==============================] - 77s 77ms/step - loss: 0.4242 - accuracy: 0.8020 - val_loss: 0.4090 - val_accuracy: 0.8021 - lr: 1.0000e-05\n",
      "Epoch 15/100\n",
      "1000/1000 [==============================] - 77s 77ms/step - loss: 0.3255 - accuracy: 0.8658 - val_loss: 0.4526 - val_accuracy: 0.7741 - lr: 1.0000e-05\n",
      "Epoch 16/100\n",
      "1000/1000 [==============================] - 78s 78ms/step - loss: 0.3391 - accuracy: 0.8522 - val_loss: 0.3815 - val_accuracy: 0.8235 - lr: 1.0000e-05\n",
      "Epoch 17/100\n",
      "1000/1000 [==============================] - 77s 77ms/step - loss: 0.3734 - accuracy: 0.8248 - val_loss: 0.3640 - val_accuracy: 0.8326 - lr: 1.0000e-05\n",
      "Epoch 18/100\n",
      "1000/1000 [==============================] - 77s 78ms/step - loss: 0.3340 - accuracy: 0.8465 - val_loss: 0.7899 - val_accuracy: 0.6614 - lr: 1.0000e-05\n",
      "Epoch 19/100\n",
      "1000/1000 [==============================] - 77s 77ms/step - loss: 0.3204 - accuracy: 0.8622 - val_loss: 0.3780 - val_accuracy: 0.8318 - lr: 1.0000e-05\n",
      "Epoch 20/100\n",
      "1000/1000 [==============================] - 77s 77ms/step - loss: 0.3172 - accuracy: 0.8547 - val_loss: 0.4895 - val_accuracy: 0.7968 - lr: 1.0000e-05\n",
      "Epoch 21/100\n",
      "1000/1000 [==============================] - 78s 78ms/step - loss: 0.3626 - accuracy: 0.8322 - val_loss: 0.5047 - val_accuracy: 0.7620 - lr: 1.0000e-05\n",
      "Epoch 22/100\n",
      "1000/1000 [==============================] - 77s 77ms/step - loss: 0.2744 - accuracy: 0.8870 - val_loss: 0.3862 - val_accuracy: 0.8346 - lr: 1.0000e-05\n",
      "Epoch 23/100\n",
      "1000/1000 [==============================] - 78s 78ms/step - loss: 0.2653 - accuracy: 0.8925 - val_loss: 0.3738 - val_accuracy: 0.8432 - lr: 1.0000e-05\n",
      "Epoch 24/100\n",
      "1000/1000 [==============================] - 78s 78ms/step - loss: 0.3220 - accuracy: 0.8558 - val_loss: 0.3662 - val_accuracy: 0.8304 - lr: 1.0000e-05\n",
      "Epoch 25/100\n",
      "1000/1000 [==============================] - 78s 78ms/step - loss: 0.2871 - accuracy: 0.8695 - val_loss: 0.4100 - val_accuracy: 0.8322 - lr: 1.0000e-05\n",
      "Epoch 26/100\n",
      "1000/1000 [==============================] - 78s 78ms/step - loss: 0.2743 - accuracy: 0.8867 - val_loss: 0.3549 - val_accuracy: 0.8445 - lr: 1.0000e-05\n",
      "Epoch 27/100\n",
      "1000/1000 [==============================] - 77s 77ms/step - loss: 0.2760 - accuracy: 0.8888 - val_loss: 0.3201 - val_accuracy: 0.8600 - lr: 1.0000e-05\n",
      "Epoch 28/100\n",
      "1000/1000 [==============================] - 77s 77ms/step - loss: 0.3063 - accuracy: 0.8695 - val_loss: 0.4641 - val_accuracy: 0.8075 - lr: 1.0000e-05\n",
      "Epoch 29/100\n",
      "1000/1000 [==============================] - 77s 77ms/step - loss: 0.2474 - accuracy: 0.9007 - val_loss: 0.2939 - val_accuracy: 0.8707 - lr: 1.0000e-05\n",
      "Epoch 30/100\n",
      "1000/1000 [==============================] - 77s 77ms/step - loss: 0.2400 - accuracy: 0.9040 - val_loss: 0.3600 - val_accuracy: 0.8521 - lr: 1.0000e-05\n",
      "Epoch 31/100\n",
      "1000/1000 [==============================] - 78s 78ms/step - loss: 0.2843 - accuracy: 0.8815 - val_loss: 0.3210 - val_accuracy: 0.8549 - lr: 1.0000e-05\n",
      "Epoch 32/100\n",
      "1000/1000 [==============================] - 77s 77ms/step - loss: 0.2488 - accuracy: 0.8932 - val_loss: 0.3748 - val_accuracy: 0.8443 - lr: 1.0000e-05\n",
      "Epoch 33/100\n",
      "1000/1000 [==============================] - 77s 77ms/step - loss: 0.2461 - accuracy: 0.9013 - val_loss: 0.4076 - val_accuracy: 0.8318 - lr: 1.0000e-05\n",
      "Epoch 34/100\n",
      "1000/1000 [==============================] - 78s 78ms/step - loss: 0.2428 - accuracy: 0.9005 - val_loss: 0.3088 - val_accuracy: 0.8668 - lr: 1.0000e-05\n",
      "Epoch 35/100\n",
      "1000/1000 [==============================] - 77s 77ms/step - loss: 0.2794 - accuracy: 0.8798 - val_loss: 0.3371 - val_accuracy: 0.8542 - lr: 1.0000e-05\n",
      "Epoch 36/100\n",
      "1000/1000 [==============================] - 77s 77ms/step - loss: 0.2149 - accuracy: 0.9125 - val_loss: 0.3055 - val_accuracy: 0.8714 - lr: 1.0000e-05\n",
      "Epoch 37/100\n",
      "1000/1000 [==============================] - 78s 78ms/step - loss: 0.2047 - accuracy: 0.9172 - val_loss: 0.4474 - val_accuracy: 0.8246 - lr: 1.0000e-05\n",
      "Epoch 38/100\n",
      "1000/1000 [==============================] - 77s 77ms/step - loss: 0.2303 - accuracy: 0.8992 - val_loss: 0.2568 - val_accuracy: 0.8890 - lr: 1.0000e-05\n",
      "Epoch 39/100\n",
      "1000/1000 [==============================] - 77s 77ms/step - loss: 0.2272 - accuracy: 0.9070 - val_loss: 0.3458 - val_accuracy: 0.8688 - lr: 1.0000e-05\n",
      "Epoch 40/100\n",
      "1000/1000 [==============================] - 77s 77ms/step - loss: 0.2091 - accuracy: 0.9212 - val_loss: 0.3082 - val_accuracy: 0.8671 - lr: 1.0000e-05\n",
      "Epoch 41/100\n",
      "1000/1000 [==============================] - 77s 77ms/step - loss: 0.2194 - accuracy: 0.9080 - val_loss: 0.2556 - val_accuracy: 0.8907 - lr: 1.0000e-05\n",
      "Epoch 42/100\n",
      "1000/1000 [==============================] - 77s 77ms/step - loss: 0.2347 - accuracy: 0.9038 - val_loss: 0.2492 - val_accuracy: 0.8921 - lr: 1.0000e-05\n",
      "Epoch 43/100\n",
      "1000/1000 [==============================] - 77s 77ms/step - loss: 0.1829 - accuracy: 0.9295 - val_loss: 0.2401 - val_accuracy: 0.8996 - lr: 1.0000e-05\n",
      "Epoch 44/100\n",
      "1000/1000 [==============================] - 77s 77ms/step - loss: 0.1869 - accuracy: 0.9283 - val_loss: 0.3068 - val_accuracy: 0.8781 - lr: 1.0000e-05\n",
      "Epoch 45/100\n",
      "1000/1000 [==============================] - 77s 77ms/step - loss: 0.2006 - accuracy: 0.9162 - val_loss: 0.2406 - val_accuracy: 0.9031 - lr: 1.0000e-05\n",
      "Epoch 46/100\n",
      "1000/1000 [==============================] - 76s 76ms/step - loss: 0.2213 - accuracy: 0.9095 - val_loss: 0.2855 - val_accuracy: 0.8857 - lr: 1.0000e-05\n",
      "Epoch 47/100\n",
      "1000/1000 [==============================] - 77s 77ms/step - loss: 0.1681 - accuracy: 0.9315 - val_loss: 0.3002 - val_accuracy: 0.8860 - lr: 1.0000e-05\n",
      "Epoch 48/100\n",
      "1000/1000 [==============================] - 77s 77ms/step - loss: 0.1934 - accuracy: 0.9187 - val_loss: 0.2559 - val_accuracy: 0.8904 - lr: 1.0000e-05\n",
      "Epoch 49/100\n",
      "1000/1000 [==============================] - 78s 78ms/step - loss: 0.2137 - accuracy: 0.9115 - val_loss: 0.2739 - val_accuracy: 0.8838 - lr: 1.0000e-05\n",
      "Epoch 50/100\n",
      "1000/1000 [==============================] - 77s 77ms/step - loss: 0.1633 - accuracy: 0.9333 - val_loss: 0.3456 - val_accuracy: 0.8696 - lr: 1.0000e-05\n",
      "Epoch 51/100\n",
      "1000/1000 [==============================] - 77s 77ms/step - loss: 0.1686 - accuracy: 0.9348 - val_loss: 0.4211 - val_accuracy: 0.8458 - lr: 1.0000e-05\n",
      "Epoch 52/100\n",
      "1000/1000 [==============================] - 77s 77ms/step - loss: 0.1672 - accuracy: 0.9330 - val_loss: 0.2776 - val_accuracy: 0.8920 - lr: 1.0000e-05\n",
      "Epoch 53/100\n",
      "1000/1000 [==============================] - 77s 77ms/step - loss: 0.2070 - accuracy: 0.9128 - val_loss: 0.2749 - val_accuracy: 0.8960 - lr: 1.0000e-05\n",
      "Epoch 54/100\n",
      "1000/1000 [==============================] - 77s 77ms/step - loss: 0.1519 - accuracy: 0.9413 - val_loss: 0.3786 - val_accuracy: 0.8685 - lr: 1.0000e-05\n"
     ]
    },
    {
     "name": "stdout",
     "output_type": "stream",
     "text": [
      "Epoch 55/100\n",
      "1000/1000 [==============================] - 77s 77ms/step - loss: 0.1742 - accuracy: 0.9315 - val_loss: 0.2636 - val_accuracy: 0.8855 - lr: 1.0000e-05\n",
      "Epoch 56/100\n",
      "1000/1000 [==============================] - 77s 78ms/step - loss: 0.1921 - accuracy: 0.9197 - val_loss: 0.2465 - val_accuracy: 0.8958 - lr: 1.0000e-05\n",
      "Epoch 57/100\n",
      "1000/1000 [==============================] - 77s 77ms/step - loss: 0.1414 - accuracy: 0.9457 - val_loss: 0.2329 - val_accuracy: 0.9118 - lr: 1.0000e-05\n",
      "Epoch 58/100\n",
      "1000/1000 [==============================] - 77s 77ms/step - loss: 0.1661 - accuracy: 0.9362 - val_loss: 0.3032 - val_accuracy: 0.8838 - lr: 1.0000e-05\n",
      "Epoch 59/100\n",
      "1000/1000 [==============================] - 78s 78ms/step - loss: 0.1437 - accuracy: 0.9460 - val_loss: 0.2363 - val_accuracy: 0.9083 - lr: 1.0000e-05\n",
      "Epoch 60/100\n",
      "1000/1000 [==============================] - 77s 77ms/step - loss: 0.1913 - accuracy: 0.9287 - val_loss: 0.2441 - val_accuracy: 0.9040 - lr: 1.0000e-05\n",
      "Epoch 61/100\n",
      "1000/1000 [==============================] - 77s 77ms/step - loss: 0.1255 - accuracy: 0.9563 - val_loss: 0.2764 - val_accuracy: 0.8971 - lr: 1.0000e-05\n",
      "Epoch 62/100\n",
      "1000/1000 [==============================] - 77s 78ms/step - loss: 0.1412 - accuracy: 0.9430 - val_loss: 0.2199 - val_accuracy: 0.9071 - lr: 1.0000e-05\n",
      "Epoch 63/100\n",
      "1000/1000 [==============================] - 77s 77ms/step - loss: 0.1820 - accuracy: 0.9268 - val_loss: 0.5021 - val_accuracy: 0.7904 - lr: 1.0000e-05\n",
      "Epoch 64/100\n",
      "1000/1000 [==============================] - 77s 77ms/step - loss: 0.1266 - accuracy: 0.9513 - val_loss: 0.2630 - val_accuracy: 0.8989 - lr: 1.0000e-05\n",
      "Epoch 65/100\n",
      "1000/1000 [==============================] - 78s 78ms/step - loss: 0.1412 - accuracy: 0.9450 - val_loss: 0.3222 - val_accuracy: 0.8797 - lr: 1.0000e-05\n",
      "Epoch 66/100\n",
      "1000/1000 [==============================] - 78s 78ms/step - loss: 0.1329 - accuracy: 0.9485 - val_loss: 0.2265 - val_accuracy: 0.9121 - lr: 1.0000e-05\n",
      "Epoch 67/100\n",
      "1000/1000 [==============================] - 77s 77ms/step - loss: 0.1597 - accuracy: 0.9355 - val_loss: 0.2796 - val_accuracy: 0.8963 - lr: 1.0000e-05\n",
      "Epoch 68/100\n",
      "1000/1000 [==============================] - 77s 77ms/step - loss: 0.1180 - accuracy: 0.9542 - val_loss: 0.1928 - val_accuracy: 0.9214 - lr: 1.0000e-05\n",
      "Epoch 69/100\n",
      "1000/1000 [==============================] - 77s 77ms/step - loss: 0.1279 - accuracy: 0.9505 - val_loss: 0.2001 - val_accuracy: 0.9155 - lr: 1.0000e-05\n",
      "Epoch 70/100\n",
      "1000/1000 [==============================] - 77s 77ms/step - loss: 0.1489 - accuracy: 0.9442 - val_loss: 0.2598 - val_accuracy: 0.8967 - lr: 1.0000e-05\n",
      "Epoch 71/100\n",
      "1000/1000 [==============================] - 77s 77ms/step - loss: 0.1168 - accuracy: 0.9542 - val_loss: 0.2933 - val_accuracy: 0.8965 - lr: 1.0000e-05\n",
      "Epoch 72/100\n",
      "1000/1000 [==============================] - 77s 77ms/step - loss: 0.1331 - accuracy: 0.9473 - val_loss: 0.2008 - val_accuracy: 0.9206 - lr: 1.0000e-05\n",
      "Epoch 73/100\n",
      "1000/1000 [==============================] - 77s 77ms/step - loss: 0.1261 - accuracy: 0.9495 - val_loss: 0.2175 - val_accuracy: 0.9164 - lr: 1.0000e-05\n",
      "Epoch 74/100\n",
      "1000/1000 [==============================] - 77s 77ms/step - loss: 0.1488 - accuracy: 0.9400 - val_loss: 0.4084 - val_accuracy: 0.8625 - lr: 1.0000e-05\n",
      "Epoch 75/100\n",
      "1000/1000 [==============================] - 77s 77ms/step - loss: 0.0961 - accuracy: 0.9610 - val_loss: 0.1931 - val_accuracy: 0.9204 - lr: 1.0000e-05\n",
      "Epoch 76/100\n",
      "1000/1000 [==============================] - 77s 77ms/step - loss: 0.1122 - accuracy: 0.9567 - val_loss: 0.1826 - val_accuracy: 0.9274 - lr: 1.0000e-05\n",
      "Epoch 77/100\n",
      "1000/1000 [==============================] - 77s 77ms/step - loss: 0.1455 - accuracy: 0.9435 - val_loss: 0.1748 - val_accuracy: 0.9294 - lr: 1.0000e-05\n",
      "Epoch 78/100\n",
      "1000/1000 [==============================] - 77s 77ms/step - loss: 0.1045 - accuracy: 0.9632 - val_loss: 0.2591 - val_accuracy: 0.8985 - lr: 1.0000e-05\n",
      "Epoch 79/100\n",
      "1000/1000 [==============================] - 78s 78ms/step - loss: 0.1176 - accuracy: 0.9530 - val_loss: 0.3203 - val_accuracy: 0.8904 - lr: 1.0000e-05\n",
      "Epoch 80/100\n",
      "1000/1000 [==============================] - 77s 77ms/step - loss: 0.1270 - accuracy: 0.9523 - val_loss: 0.2034 - val_accuracy: 0.9152 - lr: 1.0000e-05\n",
      "Epoch 81/100\n",
      "1000/1000 [==============================] - 77s 77ms/step - loss: 0.1307 - accuracy: 0.9498 - val_loss: 0.2600 - val_accuracy: 0.9126 - lr: 1.0000e-05\n",
      "Epoch 82/100\n",
      "1000/1000 [==============================] - 77s 77ms/step - loss: 0.0954 - accuracy: 0.9620 - val_loss: 0.2120 - val_accuracy: 0.9131 - lr: 1.0000e-05\n",
      "Epoch 83/100\n",
      "1000/1000 [==============================] - 77s 77ms/step - loss: 0.1072 - accuracy: 0.9590 - val_loss: 0.4014 - val_accuracy: 0.8745 - lr: 1.0000e-05\n",
      "Epoch 84/100\n",
      "1000/1000 [==============================] - 77s 77ms/step - loss: 0.1251 - accuracy: 0.9515 - val_loss: 0.1657 - val_accuracy: 0.9332 - lr: 1.0000e-05\n",
      "Epoch 85/100\n",
      "1000/1000 [==============================] - 77s 77ms/step - loss: 0.1020 - accuracy: 0.9588 - val_loss: 0.4929 - val_accuracy: 0.8448 - lr: 1.0000e-05\n",
      "Epoch 86/100\n",
      "1000/1000 [==============================] - 77s 77ms/step - loss: 0.1044 - accuracy: 0.9625 - val_loss: 0.1760 - val_accuracy: 0.9301 - lr: 1.0000e-05\n",
      "Epoch 87/100\n",
      "1000/1000 [==============================] - 77s 77ms/step - loss: 0.1003 - accuracy: 0.9630 - val_loss: 0.2336 - val_accuracy: 0.9165 - lr: 1.0000e-05\n",
      "Epoch 88/100\n",
      "1000/1000 [==============================] - 77s 77ms/step - loss: 0.1214 - accuracy: 0.9515 - val_loss: 0.4132 - val_accuracy: 0.8684 - lr: 1.0000e-05\n",
      "Epoch 89/100\n",
      "1000/1000 [==============================] - 77s 77ms/step - loss: 0.0916 - accuracy: 0.9682 - val_loss: 0.1843 - val_accuracy: 0.9258 - lr: 1.0000e-05\n",
      "Epoch 90/100\n",
      "1000/1000 [==============================] - 77s 77ms/step - loss: 0.0997 - accuracy: 0.9630 - val_loss: 0.2292 - val_accuracy: 0.9226 - lr: 1.0000e-05\n",
      "Epoch 91/100\n",
      "1000/1000 [==============================] - 77s 77ms/step - loss: 0.1154 - accuracy: 0.9548 - val_loss: 0.1747 - val_accuracy: 0.9298 - lr: 1.0000e-05\n",
      "Epoch 92/100\n",
      "1000/1000 [==============================] - 77s 77ms/step - loss: 0.0842 - accuracy: 0.9682 - val_loss: 0.2263 - val_accuracy: 0.9267 - lr: 1.0000e-05\n",
      "Epoch 93/100\n",
      "1000/1000 [==============================] - 77s 77ms/step - loss: 0.0931 - accuracy: 0.9628 - val_loss: 0.2798 - val_accuracy: 0.9029 - lr: 1.0000e-05\n",
      "Epoch 94/100\n",
      "1000/1000 [==============================] - 77s 77ms/step - loss: 0.0959 - accuracy: 0.9645 - val_loss: 0.1936 - val_accuracy: 0.9267 - lr: 1.0000e-05\n",
      "Epoch 95/100\n",
      "1000/1000 [==============================] - 77s 77ms/step - loss: 0.1107 - accuracy: 0.9542 - val_loss: 0.3952 - val_accuracy: 0.8730 - lr: 1.0000e-05\n",
      "Epoch 96/100\n",
      "1000/1000 [==============================] - 77s 77ms/step - loss: 0.0835 - accuracy: 0.9700 - val_loss: 0.4403 - val_accuracy: 0.8513 - lr: 1.0000e-05\n",
      "Epoch 97/100\n",
      "1000/1000 [==============================] - 77s 77ms/step - loss: 0.0876 - accuracy: 0.9655 - val_loss: 0.2420 - val_accuracy: 0.9175 - lr: 1.0000e-05\n",
      "Epoch 98/100\n",
      "1000/1000 [==============================] - 78s 78ms/step - loss: 0.1071 - accuracy: 0.9597 - val_loss: 0.1647 - val_accuracy: 0.9352 - lr: 1.0000e-05\n",
      "Epoch 99/100\n",
      "1000/1000 [==============================] - 77s 77ms/step - loss: 0.0946 - accuracy: 0.9645 - val_loss: 0.1864 - val_accuracy: 0.9298 - lr: 1.0000e-05\n",
      "Epoch 100/100\n",
      "1000/1000 [==============================] - 77s 77ms/step - loss: 0.0923 - accuracy: 0.9675 - val_loss: 0.2236 - val_accuracy: 0.9165 - lr: 1.0000e-05\n"
     ]
    }
   ],
   "source": [
    "for i, (train, val) in enumerate([folds[0]]):\n",
    "    \n",
    "    model = createModel()\n",
    "    \n",
    "    opt = tf.keras.optimizers.Adam(learning_rate=0.00001)\n",
    "    loss = tf.keras.losses.CategoricalCrossentropy()\n",
    "    metrics = ['accuracy']\n",
    "    \n",
    "    model.compile(optimizer=opt, loss=loss, metrics=metrics)\n",
    "    \n",
    "    tboardCb = tf.keras.callbacks.TensorBoard(log_dir=f\"{logBasePath}/{logPrefix}_{i}\", histogram_freq=1, profile_batch=(2,10))\n",
    "    lrSchedule = tf.keras.callbacks.LearningRateScheduler(schedule)\n",
    "    \n",
    "    cbs = [tboardCb, lrSchedule]\n",
    "    \n",
    "    model.evaluate(val)\n",
    "    model.fit(train, initial_epoch=START_EPOCH, epochs=END_EPOCH, steps_per_epoch=STEPS_PER_EPOCH, callbacks=cbs, validation_data=val)"
   ]
  },
  {
   "cell_type": "code",
   "execution_count": null,
   "id": "e841a27f",
   "metadata": {},
   "outputs": [],
   "source": []
  }
 ],
 "metadata": {
  "kernelspec": {
   "display_name": "Python 3 (ipykernel)",
   "language": "python",
   "name": "python3"
  },
  "language_info": {
   "codemirror_mode": {
    "name": "ipython",
    "version": 3
   },
   "file_extension": ".py",
   "mimetype": "text/x-python",
   "name": "python",
   "nbconvert_exporter": "python",
   "pygments_lexer": "ipython3",
   "version": "3.8.0"
  }
 },
 "nbformat": 4,
 "nbformat_minor": 5
}
